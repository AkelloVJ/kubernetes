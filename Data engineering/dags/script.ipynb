{
 "cells": [
  {
   "cell_type": "code",
   "execution_count": null,
   "metadata": {},
   "outputs": [],
   "source": [
    "from airflow import DAG\n",
    "from airflow.operators.bash import BashOperators\n",
    "from datetime import datetime, timedelta\n",
    "\n",
    "default_args = {\n",
    "    'owner': 'datamasterylab',\n",
    "    'start_date': datetime(year:2024, month:1, day:25),\n",
    "    'catchup': False\n",
    "}\n",
    "\n",
    "dag = DAG(\n",
    "    dag_id:'hello_world',\n",
    "    default_args = default_args,\n",
    "    schedule= timedelta(days=1)\n",
    ") "
   ]
  }
 ],
 "metadata": {
  "language_info": {
   "name": "python"
  }
 },
 "nbformat": 4,
 "nbformat_minor": 2
}
